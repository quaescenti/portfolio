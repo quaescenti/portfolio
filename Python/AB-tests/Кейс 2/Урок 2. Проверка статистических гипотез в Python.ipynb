{
 "cells": [
  {
   "cell_type": "code",
   "execution_count": 1,
   "id": "fa2390eb",
   "metadata": {},
   "outputs": [],
   "source": [
    "import pandas as pd\n",
    "import numpy as np\n",
    "from scipy.stats import ttest_ind\n",
    "alpha = 0.05\n",
    "class color:\n",
    "    BOLD = '\\033[1m'\n",
    "    END = '\\033[0m'\n",
    "    GREEN = '\\033[92m'\n",
    "df = pd.read_excel('Домашнее задание (исходник).xlsx')"
   ]
  },
  {
   "cell_type": "code",
   "execution_count": 2,
   "id": "ee8b159d",
   "metadata": {},
   "outputs": [
    {
     "data": {
      "text/html": [
       "<div>\n",
       "<style scoped>\n",
       "    .dataframe tbody tr th:only-of-type {\n",
       "        vertical-align: middle;\n",
       "    }\n",
       "\n",
       "    .dataframe tbody tr th {\n",
       "        vertical-align: top;\n",
       "    }\n",
       "\n",
       "    .dataframe thead th {\n",
       "        text-align: right;\n",
       "    }\n",
       "</style>\n",
       "<table border=\"1\" class=\"dataframe\">\n",
       "  <thead>\n",
       "    <tr style=\"text-align: right;\">\n",
       "      <th></th>\n",
       "      <th>animal</th>\n",
       "      <th>species</th>\n",
       "      <th>cnt_orders</th>\n",
       "      <th>avg_check</th>\n",
       "    </tr>\n",
       "  </thead>\n",
       "  <tbody>\n",
       "    <tr>\n",
       "      <th>0</th>\n",
       "      <td>Кошка</td>\n",
       "      <td>Домашняя обыкновенная</td>\n",
       "      <td>1037</td>\n",
       "      <td>26252.648987</td>\n",
       "    </tr>\n",
       "    <tr>\n",
       "      <th>1</th>\n",
       "      <td>Кошка</td>\n",
       "      <td>Домашняя породистая</td>\n",
       "      <td>375</td>\n",
       "      <td>27404.896000</td>\n",
       "    </tr>\n",
       "    <tr>\n",
       "      <th>2</th>\n",
       "      <td>Кошка</td>\n",
       "      <td>Уличная</td>\n",
       "      <td>598</td>\n",
       "      <td>24168.826087</td>\n",
       "    </tr>\n",
       "    <tr>\n",
       "      <th>3</th>\n",
       "      <td>Собака</td>\n",
       "      <td>Домашняя обыкновенная</td>\n",
       "      <td>920</td>\n",
       "      <td>26733.493478</td>\n",
       "    </tr>\n",
       "    <tr>\n",
       "      <th>4</th>\n",
       "      <td>Собака</td>\n",
       "      <td>Домашняя породистая</td>\n",
       "      <td>249</td>\n",
       "      <td>20443.963855</td>\n",
       "    </tr>\n",
       "    <tr>\n",
       "      <th>5</th>\n",
       "      <td>Собака</td>\n",
       "      <td>Уличная</td>\n",
       "      <td>774</td>\n",
       "      <td>25679.635659</td>\n",
       "    </tr>\n",
       "    <tr>\n",
       "      <th>6</th>\n",
       "      <td>Экзотическое животное</td>\n",
       "      <td>Экзотическое животное</td>\n",
       "      <td>893</td>\n",
       "      <td>28748.667413</td>\n",
       "    </tr>\n",
       "  </tbody>\n",
       "</table>\n",
       "</div>"
      ],
      "text/plain": [
       "                  animal                species  cnt_orders     avg_check\n",
       "0                  Кошка  Домашняя обыкновенная        1037  26252.648987\n",
       "1                  Кошка    Домашняя породистая         375  27404.896000\n",
       "2                  Кошка                Уличная         598  24168.826087\n",
       "3                 Собака  Домашняя обыкновенная         920  26733.493478\n",
       "4                 Собака    Домашняя породистая         249  20443.963855\n",
       "5                 Собака                Уличная         774  25679.635659\n",
       "6  Экзотическое животное  Экзотическое животное         893  28748.667413"
      ]
     },
     "execution_count": 2,
     "metadata": {},
     "output_type": "execute_result"
    }
   ],
   "source": [
    "# Задача 1\n",
    "#Постройте группировку, по которой видно, какое количество заказов было для каждой пары животное - порода \n",
    "#и какой средний чек был по этой паре\n",
    "\n",
    "df_gr = df.groupby(['animal', 'species']).agg(cnt_orders = ('id_order', 'count'),\n",
    "                     avg_check = ('check', 'mean')).reset_index()\n",
    "df_gr"
   ]
  },
  {
   "cell_type": "code",
   "execution_count": 3,
   "id": "f1f39c09",
   "metadata": {},
   "outputs": [],
   "source": [
    "### Построим необходимые функции для автоматизации\n",
    "# Проверка только по животному\n",
    "def checker(a1, a2):\n",
    "\n",
    "    df1 = df[df['animal']==a1]['check']\n",
    "    df2 = df[df['animal']==a2]['check']\n",
    "\n",
    "    df1_avg = df1.mean()\n",
    "    df2_avg = df2.mean()\n",
    "\n",
    "    s, p = ttest_ind(df1, df2)\n",
    "\n",
    "    if p < alpha:\n",
    "        print(color.GREEN + 'Между выборками есть статистически значимая разница' + color.END)\n",
    "        if df1_avg > df2_avg:\n",
    "            print(color.BOLD + 'Средний чек больше по животному:', a1 + color.END)\n",
    "        elif df2_avg > df1_avg:\n",
    "            print(color.BOLD + 'Средний чек больше по животному:', a2 + color.END)\n",
    "        \n",
    "    elif p > alpha:\n",
    "        print('Между выборками нет статистически значимой разницы')\n",
    "\n",
    "\n",
    "# Проверка по животному и виду\n",
    "def checker_a_s(a_s1, a_s2):\n",
    "\n",
    "    df1 = df[df['animal']==a_s1[0]][['check', 'species']]\n",
    "    df1 = df1[df1['species']==a_s1[1]]['check']\n",
    "\n",
    "    df2 = df[df['animal']==a_s2[0]][['check', 'species']]\n",
    "    df2 = df2[df2['species']==a_s2[1]]['check']\n",
    "\n",
    "    df1_avg = df1.mean()\n",
    "    df2_avg = df2.mean()\n",
    "\n",
    "    s, p = ttest_ind(df1, df2)\n",
    "\n",
    "    if p < alpha:\n",
    "        print(color.GREEN + 'Между выборками есть статистически значимая разница' + color.END)\n",
    "        if df1_avg > df2_avg:\n",
    "            print(color.BOLD + 'Средний чек больше по животному:', a_s1[0], a_s1[1] + color.END)\n",
    "        elif df2_avg > df1_avg:\n",
    "            print(color.BOLD + 'Средний чек больше по животному:', a_s2[0], a_s2[1] + color.END)\n",
    "    elif p > alpha:\n",
    "        print('Между выборками нет статистически значимой разницы')\n",
    "        "
   ]
  },
  {
   "cell_type": "code",
   "execution_count": 4,
   "id": "cc0c5411",
   "metadata": {},
   "outputs": [],
   "source": [
    "# Задача 2 Ответьте на следующие вопросы, используя функцию ttest_ind:"
   ]
  },
  {
   "cell_type": "code",
   "execution_count": 5,
   "id": "9ee7fb6f",
   "metadata": {},
   "outputs": [
    {
     "name": "stdout",
     "output_type": "stream",
     "text": [
      "Между выборками нет статистически значимой разницы\n"
     ]
    }
   ],
   "source": [
    "# 2.1 Какой средний чек выше - по собакам или по кошкам?\n",
    "a1 = 'Собака'\n",
    "a2 = 'Кошка'\n",
    "checker(a1, a2)"
   ]
  },
  {
   "cell_type": "code",
   "execution_count": 6,
   "id": "cad4ef98",
   "metadata": {},
   "outputs": [
    {
     "name": "stdout",
     "output_type": "stream",
     "text": [
      "\u001b[92mМежду выборками есть статистически значимая разница\u001b[0m\n",
      "\u001b[1mСредний чек больше по животному: Экзотическое животное\u001b[0m\n"
     ]
    }
   ],
   "source": [
    "# 2.2 Какой средний чек выше - по экзотическим животным или по собакам?\n",
    "a1 = 'Экзотическое животное'\n",
    "a2 = 'Собака'\n",
    "checker(a1, a2)"
   ]
  },
  {
   "cell_type": "code",
   "execution_count": 7,
   "id": "4e05dd4e",
   "metadata": {},
   "outputs": [
    {
     "name": "stdout",
     "output_type": "stream",
     "text": [
      "Между выборками нет статистически значимой разницы\n"
     ]
    }
   ],
   "source": [
    "# 2.3 Какой средний чек выше - по экзотическим животным или по кошкам?\n",
    "a1 = 'Экзотическое животное'\n",
    "a2 = 'Кошка'\n",
    "checker(a1, a2)"
   ]
  },
  {
   "cell_type": "code",
   "execution_count": 8,
   "id": "b22de1b5",
   "metadata": {},
   "outputs": [
    {
     "name": "stdout",
     "output_type": "stream",
     "text": [
      "0 ===============================================================================\n",
      "Проверка комбинации: Кошка Домашняя породистая vs Собака Домашняя обыкновенная\n",
      "Между выборками нет статистически значимой разницы\n",
      "\n",
      "1 ===============================================================================\n",
      "Проверка комбинации: Кошка Домашняя обыкновенная vs Собака Домашняя породистая\n",
      "\u001b[92mМежду выборками есть статистически значимая разница\u001b[0m\n",
      "\u001b[1mСредний чек больше по животному: Кошка Домашняя обыкновенная\u001b[0m\n",
      "\n",
      "2 ===============================================================================\n",
      "Проверка комбинации: Кошка Домашняя породистая vs Собака Домашняя породистая\n",
      "\u001b[92mМежду выборками есть статистически значимая разница\u001b[0m\n",
      "\u001b[1mСредний чек больше по животному: Кошка Домашняя породистая\u001b[0m\n",
      "\n",
      "3 ===============================================================================\n",
      "Проверка комбинации: Кошка Уличная vs Собака Домашняя породистая\n",
      "Между выборками нет статистически значимой разницы\n",
      "\n",
      "4 ===============================================================================\n",
      "Проверка комбинации: Кошка Домашняя обыкновенная vs Собака Уличная\n",
      "Между выборками нет статистически значимой разницы\n",
      "\n",
      "5 ===============================================================================\n",
      "Проверка комбинации: Кошка Домашняя породистая vs Собака Уличная\n",
      "Между выборками нет статистически значимой разницы\n",
      "\n"
     ]
    },
    {
     "name": "stderr",
     "output_type": "stream",
     "text": [
      "C:\\Users\\MrEdward\\AppData\\Local\\Temp\\ipykernel_22452\\1318596696.py:8: SettingWithCopyWarning: \n",
      "A value is trying to be set on a copy of a slice from a DataFrame.\n",
      "Try using .loc[row_indexer,col_indexer] = value instead\n",
      "\n",
      "See the caveats in the documentation: https://pandas.pydata.org/pandas-docs/stable/user_guide/indexing.html#returning-a-view-versus-a-copy\n",
      "  df_gr_cat['key'] = 0 # Костыль для кроссджоина\n",
      "C:\\Users\\MrEdward\\AppData\\Local\\Temp\\ipykernel_22452\\1318596696.py:9: SettingWithCopyWarning: \n",
      "A value is trying to be set on a copy of a slice from a DataFrame.\n",
      "Try using .loc[row_indexer,col_indexer] = value instead\n",
      "\n",
      "See the caveats in the documentation: https://pandas.pydata.org/pandas-docs/stable/user_guide/indexing.html#returning-a-view-versus-a-copy\n",
      "  df_gr_dog['key'] = 0 # Костыль для кроссджоина\n"
     ]
    }
   ],
   "source": [
    "# 2.4 Существуют ли сегменты (разбиение по породе), в рамках которых средний чек по кошкам больше, чем по собакам?\n",
    "\n",
    "# Ищем сочетания, где средний чек по кошкам больше, чем средний чек по собакам\n",
    "# Сделаем df, в котором есть все взаимные сочетания по породам для кошек и собак и циклом проверим эти сочетания\n",
    "\n",
    "df_gr_cat = df_gr[df_gr['animal']=='Кошка'] # Берём группировку только по кошкам\n",
    "df_gr_dog = df_gr[df_gr['animal']=='Собака'] # Берём группировку только по собакам\n",
    "df_gr_cat['key'] = 0 # Костыль для кроссджоина\n",
    "df_gr_dog['key'] = 0 # Костыль для кроссджоина\n",
    "\n",
    "df_gr_dog_cat = df_gr_dog.merge(df_gr_cat, on='key', how='outer') # Кроссджоин\n",
    "\n",
    "df_gr_dog_cat['flag'] = np.where(df_gr_dog_cat['avg_check_y']>df_gr_dog_cat['avg_check_x'], 1, 0) # Потенциальные кандидаты\n",
    "df_gr_dog_cat = df_gr_dog_cat = df_gr_dog_cat[df_gr_dog_cat['flag']==1] # Оставляем только потенциальных кандидатов\n",
    "\n",
    "df_gr_dog_cat.reset_index(inplace = True) # делаем индекс последовательным\n",
    "df_gr_dog_cat = df_gr_dog_cat.drop(columns = ['index', 'key', 'flag', 'cnt_orders_y', \n",
    "         'cnt_orders_x', 'avg_check_x', 'avg_check_y']) # Удаляем лишние колонки, опционально для красоты если принтить\n",
    "\n",
    "for i, row in df_gr_dog_cat.iterrows():\n",
    "    print(i, '===============================================================================')\n",
    "    print('Проверка комбинации:', row['animal_y'], row['species_y'], 'vs', row['animal_x'], row['species_x'])\n",
    "    a_s1 = [row['animal_y'], row['species_y']]\n",
    "    a_s2 = [row['animal_x'], row['species_x']]\n",
    "    checker_a_s(a_s1, a_s2)\n",
    "    print()"
   ]
  },
  {
   "cell_type": "code",
   "execution_count": 9,
   "id": "76c901b3",
   "metadata": {},
   "outputs": [
    {
     "name": "stdout",
     "output_type": "stream",
     "text": [
      "Между выборками нет статистически значимой разницы\n"
     ]
    }
   ],
   "source": [
    "# 2.5 Какой средний чек выше - по экзотическим животным или по домашним породистым кошкам?\n",
    "a_s1 = ['Экзотическое животное', 'Экзотическое животное']\n",
    "a_s2 = ['Кошка', 'Домашняя породистая']\n",
    "checker_a_s(a_s1, a_s2)\n"
   ]
  },
  {
   "cell_type": "code",
   "execution_count": null,
   "id": "7689704f",
   "metadata": {},
   "outputs": [],
   "source": []
  }
 ],
 "metadata": {
  "kernelspec": {
   "display_name": "Python 3 (ipykernel)",
   "language": "python",
   "name": "python3"
  },
  "language_info": {
   "codemirror_mode": {
    "name": "ipython",
    "version": 3
   },
   "file_extension": ".py",
   "mimetype": "text/x-python",
   "name": "python",
   "nbconvert_exporter": "python",
   "pygments_lexer": "ipython3",
   "version": "3.10.9"
  }
 },
 "nbformat": 4,
 "nbformat_minor": 5
}
